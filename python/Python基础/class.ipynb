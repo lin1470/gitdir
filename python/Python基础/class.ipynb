{
 "cells": [
  {
   "cell_type": "markdown",
   "metadata": {},
   "source": [
    "#python中比较特殊的是，可以动态地为类本身的其他方法，也可以访问类属性以及对象的属性，可以动态地为类和对象增加成员，这个岂不是很危险哈哈。"
   ]
  },
  {
   "cell_type": "code",
   "execution_count": 4,
   "metadata": {},
   "outputs": [
    {
     "name": "stdout",
     "output_type": "stream",
     "text": [
      "hsdf\n"
     ]
    },
    {
     "data": {
      "text/plain": [
       "'blue'"
      ]
     },
     "execution_count": 4,
     "metadata": {},
     "output_type": "execute_result"
    }
   ],
   "source": [
    "class Car:\n",
    "    price=1000 #定义类属性\n",
    "    def __init__(self,c):\n",
    "        self.color=c#定义实例属性，有点意思哈哈哈\n",
    "car1=Car('hsdf')\n",
    "print car1.color#\n",
    "Car.price=12323#修改类属性\n",
    "Car.name='good'\n",
    "car1.color='blue'\n",
    "car1.color\n",
    "def setSpeed(self,s):\n",
    "    self.speed=s#增加实例方法"
   ]
  }
 ],
 "metadata": {
  "kernelspec": {
   "display_name": "Python 2",
   "language": "python",
   "name": "python2"
  },
  "language_info": {
   "codemirror_mode": {
    "name": "ipython",
    "version": 2
   },
   "file_extension": ".py",
   "mimetype": "text/x-python",
   "name": "python",
   "nbconvert_exporter": "python",
   "pygments_lexer": "ipython2",
   "version": "2.7.13"
  }
 },
 "nbformat": 4,
 "nbformat_minor": 2
}
