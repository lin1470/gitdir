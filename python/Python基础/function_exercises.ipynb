{
 "cells": [
  {
   "cell_type": "code",
   "execution_count": 3,
   "metadata": {},
   "outputs": [
    {
     "data": {
      "text/plain": [
       "55"
      ]
     },
     "execution_count": 3,
     "metadata": {},
     "output_type": "execute_result"
    }
   ],
   "source": [
    "def add(x,y):\n",
    "    return x+y\n",
    "reduce(add,range(10))\n",
    "reduce(lambda x,y:x+y,range(11))"
   ]
  },
  {
   "cell_type": "code",
   "execution_count": 17,
   "metadata": {},
   "outputs": [
    {
     "data": {
      "text/plain": [
       "True"
      ]
     },
     "execution_count": 17,
     "metadata": {},
     "output_type": "execute_result"
    }
   ],
   "source": [
    "import math as mt#判断素数的函数\n",
    "def is_prime(num):\n",
    "    flag=True\n",
    "    for i in range(2,int(mt.sqrt(num))+1):\n",
    "        if num%i==0:\n",
    "            flag=False\n",
    "            break\n",
    "    return flag\n",
    "is_prime(4)"
   ]
  },
  {
   "cell_type": "code",
   "execution_count": 5,
   "metadata": {},
   "outputs": [
    {
     "name": "stdout",
     "output_type": "stream",
     "text": [
      "(18, 7, 5, 3)\n"
     ]
    }
   ],
   "source": [
    "#编写一个函数接受一个字符串，分别统计大写字母，小写字母，数字，其他字符的个数并以元祖的形式返回结果\n",
    "def calculate_string(str):\n",
    "    lower_number=0\n",
    "    upper_number=0\n",
    "    digit_number=0\n",
    "    extra_number=0\n",
    "    for character in str:\n",
    "        if 'a'<=character<='z':\n",
    "            lower_number+=1\n",
    "            continue\n",
    "        if 'A'<=character<='Z':\n",
    "            upper_number+=1\n",
    "            continue\n",
    "        if '0'<=character<='9':\n",
    "            digit_number+=1\n",
    "            continue\n",
    "        if not ('a'<=character<='z' or 'A'<=character<='Z' or '0'<=character<='9'):\n",
    "            extra_number+=1\n",
    "            continue\n",
    "    return tuple([lower_number,upper_number,digit_number,extra_number])\n",
    "print calculate_string('shdfksdh15486**-sadfasdaaaSAHDFHH')"
   ]
  },
  {
   "cell_type": "code",
   "execution_count": 16,
   "metadata": {},
   "outputs": [
    {
     "name": "stdout",
     "output_type": "stream",
     "text": [
      "1\n",
      "1 1\n",
      "1 2 1\n",
      "1 3 3 1\n",
      "1 4 6 4 1\n",
      "1 5 10 10 5 1\n",
      "1 6 15 20 15 6 1\n",
      "1 7 21 35 35 21 7 1\n",
      "1 8 28 56 70 56 28 8 1\n",
      "1 9 36 84 126 126 84 36 9 1\n",
      "1 10 45 120 210 252 210 120 45 10 1\n",
      "1 11 55 165 330 462 462 330 165 55 11 1\n",
      "1 12 66 220 495 792 924 792 495 220 66 12 1\n",
      "1 13 78 286 715 1287 1716 1716 1287 715 286 78 13 1\n",
      "1 14 91 364 1001 2002 3003 3432 3003 2002 1001 364 91 14 1\n",
      "1 15 105 455 1365 3003 5005 6435 6435 5005 3003 1365 455 105 15 1\n",
      "1 16 120 560 1820 4368 8008 11440 12870 11440 8008 4368 1820 560 120 16 1\n",
      "1 17 136 680 2380 6188 12376 19448 24310 24310 19448 12376 6188 2380 680 136 17 1\n",
      "1 18 153 816 3060 8568 18564 31824 43758 48620 43758 31824 18564 8568 3060 816 153 18 1\n",
      "1 19 171 969 3876 11628 27132 50388 75582 92378 92378 75582 50388 27132 11628 3876 969 171 19 1\n"
     ]
    },
    {
     "data": {
      "text/plain": [
       "0"
      ]
     },
     "execution_count": 16,
     "metadata": {},
     "output_type": "execute_result"
    }
   ],
   "source": [
    "#打印杨辉三角\n",
    "def demo(t):\n",
    "    print '1'\n",
    "    print '1 1'\n",
    "    line=[1,1]\n",
    "    for i in range(2,t):#需要循环2到t-1行，并且打印这几行的\n",
    "        r=[]\n",
    "        for j in range(0,len(line)-1):\n",
    "            r.append(line[j]+line[j+1])\n",
    "        line=[1]+r+[1]#这三行有点意思哈哈。。不过就是得用一点的观察的方法的罢。\n",
    "        for k in line:\n",
    "            print k,\n",
    "        print\n",
    "    return 0\n",
    "demo(20)"
   ]
  }
 ],
 "metadata": {
  "kernelspec": {
   "display_name": "Python 2",
   "language": "python",
   "name": "python2"
  },
  "language_info": {
   "codemirror_mode": {
    "name": "ipython",
    "version": 2
   },
   "file_extension": ".py",
   "mimetype": "text/x-python",
   "name": "python",
   "nbconvert_exporter": "python",
   "pygments_lexer": "ipython2",
   "version": "2.7.13"
  }
 },
 "nbformat": 4,
 "nbformat_minor": 2
}
