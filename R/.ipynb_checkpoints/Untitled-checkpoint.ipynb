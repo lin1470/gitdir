{
 "cells": [
  {
   "cell_type": "code",
   "execution_count": 5,
   "metadata": {},
   "outputs": [
    {
     "data": {
      "text/html": [
       "<ol class=list-inline>\n",
       "\t<li>1</li>\n",
       "\t<li>2</li>\n",
       "\t<li>3</li>\n",
       "\t<li>4</li>\n",
       "\t<li>5</li>\n",
       "\t<li>&lt;NA&gt;</li>\n",
       "</ol>\n"
      ],
      "text/latex": [
       "\\begin{enumerate*}\n",
       "\\item 1\n",
       "\\item 2\n",
       "\\item 3\n",
       "\\item 4\n",
       "\\item 5\n",
       "\\item <NA>\n",
       "\\end{enumerate*}\n"
      ],
      "text/markdown": [
       "1. 1\n",
       "2. 2\n",
       "3. 3\n",
       "4. 4\n",
       "5. 5\n",
       "6. &lt;NA&gt;\n",
       "\n",
       "\n"
      ],
      "text/plain": [
       "[1]  1  2  3  4  5 NA"
      ]
     },
     "metadata": {},
     "output_type": "display_data"
    },
    {
     "data": {
      "text/html": [
       "<ol class=list-inline>\n",
       "\t<li>1</li>\n",
       "\t<li>2</li>\n",
       "\t<li>3</li>\n",
       "\t<li>4</li>\n",
       "\t<li>5</li>\n",
       "</ol>\n"
      ],
      "text/latex": [
       "\\begin{enumerate*}\n",
       "\\item 1\n",
       "\\item 2\n",
       "\\item 3\n",
       "\\item 4\n",
       "\\item 5\n",
       "\\end{enumerate*}\n"
      ],
      "text/markdown": [
       "1. 1\n",
       "2. 2\n",
       "3. 3\n",
       "4. 4\n",
       "5. 5\n",
       "\n",
       "\n"
      ],
      "text/plain": [
       "[1] 1 2 3 4 5"
      ]
     },
     "metadata": {},
     "output_type": "display_data"
    }
   ],
   "source": [
    "z<-c(1:5,NA)\n",
    "z\n",
    "c(1:5)#c是生成向量的函数"
   ]
  },
  {
   "cell_type": "code",
   "execution_count": 1,
   "metadata": {},
   "outputs": [
    {
     "data": {
      "text/html": [
       "1.66666666666667"
      ],
      "text/latex": [
       "1.66666666666667"
      ],
      "text/markdown": [
       "1.66666666666667"
      ],
      "text/plain": [
       "[1] 1.666667"
      ]
     },
     "metadata": {},
     "output_type": "display_data"
    }
   ],
   "source": [
    "5/3"
   ]
  },
  {
   "cell_type": "raw",
   "metadata": {},
   "source": [
    "paste()函数可以把自变量对应元素连成一个字符串，长度不相同时，较短的向量会被重复利用。,中间的参数seq='中间利用这个来分割。'"
   ]
  },
  {
   "cell_type": "code",
   "execution_count": 18,
   "metadata": {},
   "outputs": [
    {
     "data": {
      "text/html": [
       "<ol class=list-inline>\n",
       "\t<li>'xs1'</li>\n",
       "\t<li>'xs2'</li>\n",
       "\t<li>'xs3'</li>\n",
       "\t<li>'xs4'</li>\n",
       "\t<li>'xs5'</li>\n",
       "</ol>\n"
      ],
      "text/latex": [
       "\\begin{enumerate*}\n",
       "\\item 'xs1'\n",
       "\\item 'xs2'\n",
       "\\item 'xs3'\n",
       "\\item 'xs4'\n",
       "\\item 'xs5'\n",
       "\\end{enumerate*}\n"
      ],
      "text/markdown": [
       "1. 'xs1'\n",
       "2. 'xs2'\n",
       "3. 'xs3'\n",
       "4. 'xs4'\n",
       "5. 'xs5'\n",
       "\n",
       "\n"
      ],
      "text/plain": [
       "[1] \"xs1\" \"xs2\" \"xs3\" \"xs4\" \"xs5\""
      ]
     },
     "metadata": {},
     "output_type": "display_data"
    }
   ],
   "source": [
    "v<-paste(\"x\",1:5,sep = \"s\")\n",
    "v"
   ]
  },
  {
   "cell_type": "raw",
   "metadata": {},
   "source": [
    "也可以利用assign()函数来个变量赋值"
   ]
  },
  {
   "cell_type": "code",
   "execution_count": 19,
   "metadata": {},
   "outputs": [
    {
     "data": {
      "text/html": [
       "<ol class=list-inline>\n",
       "\t<li>1</li>\n",
       "\t<li>2</li>\n",
       "\t<li>6</li>\n",
       "\t<li>7</li>\n",
       "</ol>\n"
      ],
      "text/latex": [
       "\\begin{enumerate*}\n",
       "\\item 1\n",
       "\\item 2\n",
       "\\item 6\n",
       "\\item 7\n",
       "\\end{enumerate*}\n"
      ],
      "text/markdown": [
       "1. 1\n",
       "2. 2\n",
       "3. 6\n",
       "4. 7\n",
       "\n",
       "\n"
      ],
      "text/plain": [
       "[1] 1 2 6 7"
      ]
     },
     "metadata": {},
     "output_type": "display_data"
    }
   ],
   "source": [
    "assign(\"w\",c(1,2,6,7))\n",
    "w"
   ]
  },
  {
   "cell_type": "markdown",
   "metadata": {},
   "source": [
    "# 向量的运算"
   ]
  },
  {
   "cell_type": "code",
   "execution_count": 21,
   "metadata": {},
   "outputs": [
    {
     "data": {
      "text/html": [
       "<ol class=list-inline>\n",
       "\t<li>1</li>\n",
       "\t<li>9</li>\n",
       "\t<li>25</li>\n",
       "\t<li>49</li>\n",
       "\t<li>81</li>\n",
       "</ol>\n"
      ],
      "text/latex": [
       "\\begin{enumerate*}\n",
       "\\item 1\n",
       "\\item 9\n",
       "\\item 25\n",
       "\\item 49\n",
       "\\item 81\n",
       "\\end{enumerate*}\n"
      ],
      "text/markdown": [
       "1. 1\n",
       "2. 9\n",
       "3. 25\n",
       "4. 49\n",
       "5. 81\n",
       "\n",
       "\n"
      ],
      "text/plain": [
       "[1]  1  9 25 49 81"
      ]
     },
     "metadata": {},
     "output_type": "display_data"
    },
    {
     "data": {
      "text/html": [
       "<ol class=list-inline>\n",
       "\t<li>1</li>\n",
       "\t<li>9</li>\n",
       "\t<li>25</li>\n",
       "\t<li>49</li>\n",
       "\t<li>81</li>\n",
       "</ol>\n"
      ],
      "text/latex": [
       "\\begin{enumerate*}\n",
       "\\item 1\n",
       "\\item 9\n",
       "\\item 25\n",
       "\\item 49\n",
       "\\item 81\n",
       "\\end{enumerate*}\n"
      ],
      "text/markdown": [
       "1. 1\n",
       "2. 9\n",
       "3. 25\n",
       "4. 49\n",
       "5. 81\n",
       "\n",
       "\n"
      ],
      "text/plain": [
       "[1]  1  9 25 49 81"
      ]
     },
     "metadata": {},
     "output_type": "display_data"
    },
    {
     "data": {
      "text/html": [
       "<ol class=list-inline>\n",
       "\t<li>1</li>\n",
       "\t<li>27</li>\n",
       "\t<li>3125</li>\n",
       "\t<li>823543</li>\n",
       "\t<li>387420489</li>\n",
       "</ol>\n"
      ],
      "text/latex": [
       "\\begin{enumerate*}\n",
       "\\item 1\n",
       "\\item 27\n",
       "\\item 3125\n",
       "\\item 823543\n",
       "\\item 387420489\n",
       "\\end{enumerate*}\n"
      ],
      "text/markdown": [
       "1. 1\n",
       "2. 27\n",
       "3. 3125\n",
       "4. 823543\n",
       "5. 387420489\n",
       "\n",
       "\n"
      ],
      "text/plain": [
       "[1]         1        27      3125    823543 387420489"
      ]
     },
     "metadata": {},
     "output_type": "display_data"
    }
   ],
   "source": [
    "x<-c(1,3,5,7,9)\n",
    "c(1,3,5,7,9)->y\n",
    "x*y#这样的乘法是对应的元素相乘\n",
    "x^2#表达式的话，这个是会自动显示的\n",
    "y^x#所以不用所谓的print就可以自动显示哈哈。方便检查的吧"
   ]
  },
  {
   "cell_type": "raw",
   "metadata": {},
   "source": [
    "#如果第一个向量的长度小鱼第二个向量的，循环不起第一个向量的长度。"
   ]
  },
  {
   "cell_type": "code",
   "execution_count": 22,
   "metadata": {},
   "outputs": [
    {
     "name": "stderr",
     "output_type": "stream",
     "text": [
      "Warning message in c(1, 3, 4) + c(2, 4, 6, 8, 10):\n",
      "“longer object length is not a multiple of shorter object length”"
     ]
    },
    {
     "data": {
      "text/html": [
       "<ol class=list-inline>\n",
       "\t<li>3</li>\n",
       "\t<li>7</li>\n",
       "\t<li>10</li>\n",
       "\t<li>9</li>\n",
       "\t<li>13</li>\n",
       "</ol>\n"
      ],
      "text/latex": [
       "\\begin{enumerate*}\n",
       "\\item 3\n",
       "\\item 7\n",
       "\\item 10\n",
       "\\item 9\n",
       "\\item 13\n",
       "\\end{enumerate*}\n"
      ],
      "text/markdown": [
       "1. 3\n",
       "2. 7\n",
       "3. 10\n",
       "4. 9\n",
       "5. 13\n",
       "\n",
       "\n"
      ],
      "text/plain": [
       "[1]  3  7 10  9 13"
      ]
     },
     "metadata": {},
     "output_type": "display_data"
    }
   ],
   "source": [
    "c(1,3,4)+c(2,4,6,8,10)"
   ]
  },
  {
   "cell_type": "code",
   "execution_count": 4,
   "metadata": {},
   "outputs": [
    {
     "data": {
      "text/html": [
       "<ol class=list-inline>\n",
       "\t<li>FALSE</li>\n",
       "\t<li>FALSE</li>\n",
       "\t<li>FALSE</li>\n",
       "\t<li>FALSE</li>\n",
       "\t<li>FALSE</li>\n",
       "\t<li>TRUE</li>\n",
       "</ol>\n"
      ],
      "text/latex": [
       "\\begin{enumerate*}\n",
       "\\item FALSE\n",
       "\\item FALSE\n",
       "\\item FALSE\n",
       "\\item FALSE\n",
       "\\item FALSE\n",
       "\\item TRUE\n",
       "\\end{enumerate*}\n"
      ],
      "text/markdown": [
       "1. FALSE\n",
       "2. FALSE\n",
       "3. FALSE\n",
       "4. FALSE\n",
       "5. FALSE\n",
       "6. TRUE\n",
       "\n",
       "\n"
      ],
      "text/plain": [
       "[1] FALSE FALSE FALSE FALSE FALSE  TRUE"
      ]
     },
     "metadata": {},
     "output_type": "display_data"
    }
   ],
   "source": [
    "is.na(z)#判断这个向量中是否有缺省值，并返回一个向量的形式来的。"
   ]
  },
  {
   "cell_type": "raw",
   "metadata": {},
   "source": [
    "数据类型：character complex double integer logical NA numeric\n",
    "辨别函数：is.character() is.complex() is.double() is.integer() is.logical() is.na() is.numeric() \n",
    "转换函数：as.character() ……"
   ]
  },
  {
   "cell_type": "code",
   "execution_count": 14,
   "metadata": {},
   "outputs": [
    {
     "data": {
      "text/html": [
       "<ol class=list-inline>\n",
       "\t<li>0</li>\n",
       "\t<li>0.1</li>\n",
       "\t<li>0.2</li>\n",
       "\t<li>0.3</li>\n",
       "\t<li>0.4</li>\n",
       "\t<li>0.5</li>\n",
       "\t<li>0.6</li>\n",
       "\t<li>0.7</li>\n",
       "\t<li>0.8</li>\n",
       "\t<li>0.9</li>\n",
       "\t<li>1</li>\n",
       "</ol>\n"
      ],
      "text/latex": [
       "\\begin{enumerate*}\n",
       "\\item 0\n",
       "\\item 0.1\n",
       "\\item 0.2\n",
       "\\item 0.3\n",
       "\\item 0.4\n",
       "\\item 0.5\n",
       "\\item 0.6\n",
       "\\item 0.7\n",
       "\\item 0.8\n",
       "\\item 0.9\n",
       "\\item 1\n",
       "\\end{enumerate*}\n"
      ],
      "text/markdown": [
       "1. 0\n",
       "2. 0.1\n",
       "3. 0.2\n",
       "4. 0.3\n",
       "5. 0.4\n",
       "6. 0.5\n",
       "7. 0.6\n",
       "8. 0.7\n",
       "9. 0.8\n",
       "10. 0.9\n",
       "11. 1\n",
       "\n",
       "\n"
      ],
      "text/plain": [
       " [1] 0.0 0.1 0.2 0.3 0.4 0.5 0.6 0.7 0.8 0.9 1.0"
      ]
     },
     "metadata": {},
     "output_type": "display_data"
    },
    {
     "data": {
      "text/html": [
       "<ol class=list-inline>\n",
       "\t<li>0</li>\n",
       "\t<li>3.14159265358979</li>\n",
       "\t<li>6.28318530717959</li>\n",
       "</ol>\n"
      ],
      "text/latex": [
       "\\begin{enumerate*}\n",
       "\\item 0\n",
       "\\item 3.14159265358979\n",
       "\\item 6.28318530717959\n",
       "\\end{enumerate*}\n"
      ],
      "text/markdown": [
       "1. 0\n",
       "2. 3.14159265358979\n",
       "3. 6.28318530717959\n",
       "\n",
       "\n"
      ],
      "text/plain": [
       "[1] 0.000000 3.141593 6.283185"
      ]
     },
     "metadata": {},
     "output_type": "display_data"
    }
   ],
   "source": [
    "x<-seq(0,1,by=.1)\n",
    "x\n",
    "seq(0, 9, by = pi)"
   ]
  },
  {
   "cell_type": "code",
   "execution_count": 4,
   "metadata": {},
   "outputs": [
    {
     "data": {
      "text/html": [
       "<ol class=list-inline>\n",
       "\t<li>1</li>\n",
       "\t<li>2</li>\n",
       "\t<li>3</li>\n",
       "\t<li>4</li>\n",
       "\t<li>5</li>\n",
       "\t<li>6</li>\n",
       "\t<li>7</li>\n",
       "\t<li>8</li>\n",
       "\t<li>9</li>\n",
       "\t<li>10</li>\n",
       "</ol>\n"
      ],
      "text/latex": [
       "\\begin{enumerate*}\n",
       "\\item 1\n",
       "\\item 2\n",
       "\\item 3\n",
       "\\item 4\n",
       "\\item 5\n",
       "\\item 6\n",
       "\\item 7\n",
       "\\item 8\n",
       "\\item 9\n",
       "\\item 10\n",
       "\\end{enumerate*}\n"
      ],
      "text/markdown": [
       "1. 1\n",
       "2. 2\n",
       "3. 3\n",
       "4. 4\n",
       "5. 5\n",
       "6. 6\n",
       "7. 7\n",
       "8. 8\n",
       "9. 9\n",
       "10. 10\n",
       "\n",
       "\n"
      ],
      "text/plain": [
       " [1]  1  2  3  4  5  6  7  8  9 10"
      ]
     },
     "metadata": {},
     "output_type": "display_data"
    }
   ],
   "source": [
    "(t<-1:10)#加了个括号就是一表达式的形式存在，就可以自动显示了吧。\n"
   ]
  },
  {
   "cell_type": "code",
   "execution_count": 10,
   "metadata": {},
   "outputs": [
    {
     "data": {
      "text/html": [
       "5.5"
      ],
      "text/latex": [
       "5.5"
      ],
      "text/markdown": [
       "5.5"
      ],
      "text/plain": [
       "[1] 5.5"
      ]
     },
     "metadata": {},
     "output_type": "display_data"
    },
    {
     "data": {
      "text/html": [
       "3.02765035409749"
      ],
      "text/latex": [
       "3.02765035409749"
      ],
      "text/markdown": [
       "3.02765035409749"
      ],
      "text/plain": [
       "[1] 3.02765"
      ]
     },
     "metadata": {},
     "output_type": "display_data"
    },
    {
     "data": {
      "text/html": [
       "9.16666666666667"
      ],
      "text/latex": [
       "9.16666666666667"
      ],
      "text/markdown": [
       "9.16666666666667"
      ],
      "text/plain": [
       "[1] 9.166667"
      ]
     },
     "metadata": {},
     "output_type": "display_data"
    }
   ],
   "source": [
    "mean(t)\n",
    "sd(t)\n",
    "(var(t))"
   ]
  },
  {
   "cell_type": "code",
   "execution_count": 15,
   "metadata": {},
   "outputs": [
    {
     "name": "stdout",
     "output_type": "stream",
     "text": [
      "If the browser launched by 'xdg-open' is already running, it is *not*\n",
      "    restarted, and you must switch to its window.\n",
      "Otherwise, be patient ...\n"
     ]
    }
   ],
   "source": [
    "help.start()"
   ]
  },
  {
   "cell_type": "markdown",
   "metadata": {},
   "source": [
    "## 对向量运算常见的函数表\n",
    "\n",
    "|函数 | 用途 |\n",
    "|:-:|:-:|\n",
    "|sum()|求和 |\n",
    "|max()| max|\n",
    "|min()|最小值|\n",
    "|range()|求极差|\n",
    "|mean()|均值|\n",
    "|median()|求求中位差|\n",
    "|var()|方差|\n",
    "|sort()|原地排序|\n",
    "|rev()|反排序|\n",
    "|rangk()|求秩，即各个数的排序数字|\n",
    "|append()|添加|\n",
    "|replace|替换|\n",
    "|match()|匹配|\n",
    "|pmatch()|部分匹配|\n",
    "|all()|判断所有|\n",
    "|any()|判断部分|\n",
    "|prod()|全部相乘的极|"
   ]
  },
  {
   "cell_type": "markdown",
   "metadata": {},
   "source": [
    "### 矩阵"
   ]
  },
  {
   "cell_type": "markdown",
   "metadata": {},
   "source": [
    "矩阵的生成语法是\n",
    "\n",
    "    matrix(data=NA,nrow=1,ncol=1,byrow=FALSE,dimnames=NULL)\n",
    "其中，data项为必要的矩阵元素，nrow为行数，ncol为列数，byrow项控制排列元素时是否按照行进行，默认byrow=FASLE，即是按照列来进行的。"
   ]
  },
  {
   "cell_type": "code",
   "execution_count": 2,
   "metadata": {},
   "outputs": [
    {
     "data": {
      "text/html": [
       "<table>\n",
       "<tbody>\n",
       "\t<tr><td>1 </td><td>5 </td><td> 9</td></tr>\n",
       "\t<tr><td>2 </td><td>6 </td><td>10</td></tr>\n",
       "\t<tr><td>3 </td><td>7 </td><td>11</td></tr>\n",
       "\t<tr><td>4 </td><td>8 </td><td>12</td></tr>\n",
       "</tbody>\n",
       "</table>\n"
      ],
      "text/latex": [
       "\\begin{tabular}{lll}\n",
       "\t 1  & 5  &  9\\\\\n",
       "\t 2  & 6  & 10\\\\\n",
       "\t 3  & 7  & 11\\\\\n",
       "\t 4  & 8  & 12\\\\\n",
       "\\end{tabular}\n"
      ],
      "text/markdown": [
       "\n",
       "| 1  | 5  |  9 | \n",
       "| 2  | 6  | 10 | \n",
       "| 3  | 7  | 11 | \n",
       "| 4  | 8  | 12 | \n",
       "\n",
       "\n"
      ],
      "text/plain": [
       "     [,1] [,2] [,3]\n",
       "[1,] 1    5     9  \n",
       "[2,] 2    6    10  \n",
       "[3,] 3    7    11  \n",
       "[4,] 4    8    12  "
      ]
     },
     "metadata": {},
     "output_type": "display_data"
    }
   ],
   "source": [
    "matrix(1:12,nrow=4,ncol=3)"
   ]
  },
  {
   "cell_type": "code",
   "execution_count": 3,
   "metadata": {},
   "outputs": [
    {
     "data": {
      "text/html": [
       "<table>\n",
       "<tbody>\n",
       "\t<tr><td>1 </td><td>4 </td><td>7 </td><td>10</td></tr>\n",
       "\t<tr><td>2 </td><td>5 </td><td>8 </td><td>11</td></tr>\n",
       "\t<tr><td>3 </td><td>6 </td><td>9 </td><td>12</td></tr>\n",
       "</tbody>\n",
       "</table>\n"
      ],
      "text/latex": [
       "\\begin{tabular}{llll}\n",
       "\t 1  & 4  & 7  & 10\\\\\n",
       "\t 2  & 5  & 8  & 11\\\\\n",
       "\t 3  & 6  & 9  & 12\\\\\n",
       "\\end{tabular}\n"
      ],
      "text/markdown": [
       "\n",
       "| 1  | 4  | 7  | 10 | \n",
       "| 2  | 5  | 8  | 11 | \n",
       "| 3  | 6  | 9  | 12 | \n",
       "\n",
       "\n"
      ],
      "text/plain": [
       "     [,1] [,2] [,3] [,4]\n",
       "[1,] 1    4    7    10  \n",
       "[2,] 2    5    8    11  \n",
       "[3,] 3    6    9    12  "
      ]
     },
     "metadata": {},
     "output_type": "display_data"
    }
   ],
   "source": [
    "(A<-matrix(1:12,nrow=3,ncol=4))#the two is defferent"
   ]
  },
  {
   "cell_type": "code",
   "execution_count": 4,
   "metadata": {},
   "outputs": [
    {
     "data": {
      "text/html": [
       "<table>\n",
       "<tbody>\n",
       "\t<tr><td> 1</td><td> 2</td><td> 3</td></tr>\n",
       "\t<tr><td> 4</td><td> 5</td><td> 6</td></tr>\n",
       "\t<tr><td> 7</td><td> 8</td><td> 9</td></tr>\n",
       "\t<tr><td>10</td><td>11</td><td>12</td></tr>\n",
       "</tbody>\n",
       "</table>\n"
      ],
      "text/latex": [
       "\\begin{tabular}{lll}\n",
       "\t  1 &  2 &  3\\\\\n",
       "\t  4 &  5 &  6\\\\\n",
       "\t  7 &  8 &  9\\\\\n",
       "\t 10 & 11 & 12\\\\\n",
       "\\end{tabular}\n"
      ],
      "text/markdown": [
       "\n",
       "|  1 |  2 |  3 | \n",
       "|  4 |  5 |  6 | \n",
       "|  7 |  8 |  9 | \n",
       "| 10 | 11 | 12 | \n",
       "\n",
       "\n"
      ],
      "text/plain": [
       "     [,1] [,2] [,3]\n",
       "[1,]  1    2    3  \n",
       "[2,]  4    5    6  \n",
       "[3,]  7    8    9  \n",
       "[4,] 10   11   12  "
      ]
     },
     "metadata": {},
     "output_type": "display_data"
    }
   ],
   "source": [
    "#用t()来求转置矩阵\n",
    "t(A)"
   ]
  },
  {
   "cell_type": "code",
   "execution_count": 5,
   "metadata": {},
   "outputs": [
    {
     "data": {
      "text/html": [
       "<table>\n",
       "<tbody>\n",
       "\t<tr><td>1 </td><td>4 </td><td>7 </td><td>10</td></tr>\n",
       "\t<tr><td>2 </td><td>5 </td><td>8 </td><td>11</td></tr>\n",
       "\t<tr><td>3 </td><td>6 </td><td>9 </td><td>12</td></tr>\n",
       "</tbody>\n",
       "</table>\n"
      ],
      "text/latex": [
       "\\begin{tabular}{llll}\n",
       "\t 1  & 4  & 7  & 10\\\\\n",
       "\t 2  & 5  & 8  & 11\\\\\n",
       "\t 3  & 6  & 9  & 12\\\\\n",
       "\\end{tabular}\n"
      ],
      "text/markdown": [
       "\n",
       "| 1  | 4  | 7  | 10 | \n",
       "| 2  | 5  | 8  | 11 | \n",
       "| 3  | 6  | 9  | 12 | \n",
       "\n",
       "\n"
      ],
      "text/plain": [
       "     [,1] [,2] [,3] [,4]\n",
       "[1,] 1    4    7    10  \n",
       "[2,] 2    5    8    11  \n",
       "[3,] 3    6    9    12  "
      ]
     },
     "metadata": {},
     "output_type": "display_data"
    },
    {
     "data": {
      "text/html": [
       "<table>\n",
       "<tbody>\n",
       "\t<tr><td> 1</td><td> 2</td><td> 3</td></tr>\n",
       "\t<tr><td> 4</td><td> 5</td><td> 6</td></tr>\n",
       "\t<tr><td> 7</td><td> 8</td><td> 9</td></tr>\n",
       "\t<tr><td>10</td><td>11</td><td>12</td></tr>\n",
       "</tbody>\n",
       "</table>\n"
      ],
      "text/latex": [
       "\\begin{tabular}{lll}\n",
       "\t  1 &  2 &  3\\\\\n",
       "\t  4 &  5 &  6\\\\\n",
       "\t  7 &  8 &  9\\\\\n",
       "\t 10 & 11 & 12\\\\\n",
       "\\end{tabular}\n"
      ],
      "text/markdown": [
       "\n",
       "|  1 |  2 |  3 | \n",
       "|  4 |  5 |  6 | \n",
       "|  7 |  8 |  9 | \n",
       "| 10 | 11 | 12 | \n",
       "\n",
       "\n"
      ],
      "text/plain": [
       "     [,1] [,2] [,3]\n",
       "[1,]  1    2    3  \n",
       "[2,]  4    5    6  \n",
       "[3,]  7    8    9  \n",
       "[4,] 10   11   12  "
      ]
     },
     "metadata": {},
     "output_type": "display_data"
    },
    {
     "data": {
      "text/html": [
       "<table>\n",
       "<tbody>\n",
       "\t<tr><td>166</td><td>188</td><td>210</td></tr>\n",
       "\t<tr><td>188</td><td>214</td><td>240</td></tr>\n",
       "\t<tr><td>210</td><td>240</td><td>270</td></tr>\n",
       "</tbody>\n",
       "</table>\n"
      ],
      "text/latex": [
       "\\begin{tabular}{lll}\n",
       "\t 166 & 188 & 210\\\\\n",
       "\t 188 & 214 & 240\\\\\n",
       "\t 210 & 240 & 270\\\\\n",
       "\\end{tabular}\n"
      ],
      "text/markdown": [
       "\n",
       "| 166 | 188 | 210 | \n",
       "| 188 | 214 | 240 | \n",
       "| 210 | 240 | 270 | \n",
       "\n",
       "\n"
      ],
      "text/plain": [
       "     [,1] [,2] [,3]\n",
       "[1,] 166  188  210 \n",
       "[2,] 188  214  240 \n",
       "[3,] 210  240  270 "
      ]
     },
     "metadata": {},
     "output_type": "display_data"
    }
   ],
   "source": [
    "#计算矩阵乘法可以用%*%，也可以用crossprod(A,B)\n",
    "B<-t(A)\n",
    "A\n",
    "B\n",
    "A%*%B\n",
    "help(\"crossprod\")"
   ]
  },
  {
   "cell_type": "code",
   "execution_count": 6,
   "metadata": {},
   "outputs": [
    {
     "data": {
      "text/html": [
       "<ol class=list-inline>\n",
       "\t<li>1</li>\n",
       "\t<li>5</li>\n",
       "\t<li>9</li>\n",
       "</ol>\n"
      ],
      "text/latex": [
       "\\begin{enumerate*}\n",
       "\\item 1\n",
       "\\item 5\n",
       "\\item 9\n",
       "\\end{enumerate*}\n"
      ],
      "text/markdown": [
       "1. 1\n",
       "2. 5\n",
       "3. 9\n",
       "\n",
       "\n"
      ],
      "text/plain": [
       "[1] 1 5 9"
      ]
     },
     "metadata": {},
     "output_type": "display_data"
    }
   ],
   "source": [
    "#可以对矩阵的对角元素进行计算，例如去一个矩阵的对角元素：\n",
    "diag(A)"
   ]
  },
  {
   "cell_type": "markdown",
   "metadata": {},
   "source": [
    ">对一个向量应用diag()函数，可以产生这样向量的元素为对角元素的对角矩阵："
   ]
  },
  {
   "cell_type": "code",
   "execution_count": 7,
   "metadata": {},
   "outputs": [
    {
     "data": {
      "text/html": [
       "<table>\n",
       "<tbody>\n",
       "\t<tr><td>1</td><td>0</td><td>0</td></tr>\n",
       "\t<tr><td>0</td><td>5</td><td>0</td></tr>\n",
       "\t<tr><td>0</td><td>0</td><td>9</td></tr>\n",
       "</tbody>\n",
       "</table>\n"
      ],
      "text/latex": [
       "\\begin{tabular}{lll}\n",
       "\t 1 & 0 & 0\\\\\n",
       "\t 0 & 5 & 0\\\\\n",
       "\t 0 & 0 & 9\\\\\n",
       "\\end{tabular}\n"
      ],
      "text/markdown": [
       "\n",
       "| 1 | 0 | 0 | \n",
       "| 0 | 5 | 0 | \n",
       "| 0 | 0 | 9 | \n",
       "\n",
       "\n"
      ],
      "text/plain": [
       "     [,1] [,2] [,3]\n",
       "[1,] 1    0    0   \n",
       "[2,] 0    5    0   \n",
       "[3,] 0    0    9   "
      ]
     },
     "metadata": {},
     "output_type": "display_data"
    }
   ],
   "source": [
    "diag(diag(A))"
   ]
  },
  {
   "cell_type": "markdown",
   "metadata": {},
   "source": [
    "如果只输入一个正整数，则diag()函数将会生成一个对应尾数的单位矩阵："
   ]
  },
  {
   "cell_type": "code",
   "execution_count": 8,
   "metadata": {},
   "outputs": [
    {
     "data": {
      "text/html": [
       "<table>\n",
       "<tbody>\n",
       "\t<tr><td>1</td><td>0</td><td>0</td></tr>\n",
       "\t<tr><td>0</td><td>1</td><td>0</td></tr>\n",
       "\t<tr><td>0</td><td>0</td><td>1</td></tr>\n",
       "</tbody>\n",
       "</table>\n"
      ],
      "text/latex": [
       "\\begin{tabular}{lll}\n",
       "\t 1 & 0 & 0\\\\\n",
       "\t 0 & 1 & 0\\\\\n",
       "\t 0 & 0 & 1\\\\\n",
       "\\end{tabular}\n"
      ],
      "text/markdown": [
       "\n",
       "| 1 | 0 | 0 | \n",
       "| 0 | 1 | 0 | \n",
       "| 0 | 0 | 1 | \n",
       "\n",
       "\n"
      ],
      "text/plain": [
       "     [,1] [,2] [,3]\n",
       "[1,] 1    0    0   \n",
       "[2,] 0    1    0   \n",
       "[3,] 0    0    1   "
      ]
     },
     "metadata": {},
     "output_type": "display_data"
    }
   ],
   "source": [
    "diag(3)"
   ]
  },
  {
   "cell_type": "markdown",
   "metadata": {},
   "source": [
    "在R中使用solve(a,b)可以计算线性方程组ax=b,b默认为单元矩阵"
   ]
  },
  {
   "cell_type": "code",
   "execution_count": 13,
   "metadata": {},
   "outputs": [
    {
     "data": {
      "text/html": [
       "<table>\n",
       "<tbody>\n",
       "\t<tr><td> 0.08374905</td><td>-0.7612257 </td><td>-0.1395546 </td><td> 1.1442610 </td></tr>\n",
       "\t<tr><td>-0.34372037</td><td>-0.2678213 </td><td> 0.1074478 </td><td>-0.4994268 </td></tr>\n",
       "\t<tr><td>-0.04699879</td><td> 1.4925724 </td><td> 1.5766740 </td><td> 1.3487495 </td></tr>\n",
       "\t<tr><td>-0.74636566</td><td> 1.1336025 </td><td>-0.7259809 </td><td>-1.3544774 </td></tr>\n",
       "</tbody>\n",
       "</table>\n"
      ],
      "text/latex": [
       "\\begin{tabular}{llll}\n",
       "\t  0.08374905 & -0.7612257  & -0.1395546  &  1.1442610 \\\\\n",
       "\t -0.34372037 & -0.2678213  &  0.1074478  & -0.4994268 \\\\\n",
       "\t -0.04699879 &  1.4925724  &  1.5766740  &  1.3487495 \\\\\n",
       "\t -0.74636566 &  1.1336025  & -0.7259809  & -1.3544774 \\\\\n",
       "\\end{tabular}\n"
      ],
      "text/markdown": [
       "\n",
       "|  0.08374905 | -0.7612257  | -0.1395546  |  1.1442610  | \n",
       "| -0.34372037 | -0.2678213  |  0.1074478  | -0.4994268  | \n",
       "| -0.04699879 |  1.4925724  |  1.5766740  |  1.3487495  | \n",
       "| -0.74636566 |  1.1336025  | -0.7259809  | -1.3544774  | \n",
       "\n",
       "\n"
      ],
      "text/plain": [
       "     [,1]        [,2]       [,3]       [,4]      \n",
       "[1,]  0.08374905 -0.7612257 -0.1395546  1.1442610\n",
       "[2,] -0.34372037 -0.2678213  0.1074478 -0.4994268\n",
       "[3,] -0.04699879  1.4925724  1.5766740  1.3487495\n",
       "[4,] -0.74636566  1.1336025 -0.7259809 -1.3544774"
      ]
     },
     "metadata": {},
     "output_type": "display_data"
    }
   ],
   "source": [
    "(A<-matrix(rnorm(16),4,4))#rnorm是生成16个标准正太分布随机数"
   ]
  },
  {
   "cell_type": "code",
   "execution_count": 14,
   "metadata": {},
   "outputs": [
    {
     "data": {
      "text/html": [
       "<table>\n",
       "<tbody>\n",
       "\t<tr><td>-1.1584327</td><td>-1.5810581</td><td>-0.3268265</td><td>-0.7211148</td></tr>\n",
       "\t<tr><td>-0.1756866</td><td>-0.7839664</td><td> 0.1895424</td><td> 0.3293873</td></tr>\n",
       "\t<tr><td>-0.5327724</td><td> 0.9437156</td><td> 0.2868199</td><td>-0.5124480</td></tr>\n",
       "\t<tr><td> 0.7768592</td><td>-0.2907234</td><td> 0.1849954</td><td> 0.2094070</td></tr>\n",
       "</tbody>\n",
       "</table>\n"
      ],
      "text/latex": [
       "\\begin{tabular}{llll}\n",
       "\t -1.1584327 & -1.5810581 & -0.3268265 & -0.7211148\\\\\n",
       "\t -0.1756866 & -0.7839664 &  0.1895424 &  0.3293873\\\\\n",
       "\t -0.5327724 &  0.9437156 &  0.2868199 & -0.5124480\\\\\n",
       "\t  0.7768592 & -0.2907234 &  0.1849954 &  0.2094070\\\\\n",
       "\\end{tabular}\n"
      ],
      "text/markdown": [
       "\n",
       "| -1.1584327 | -1.5810581 | -0.3268265 | -0.7211148 | \n",
       "| -0.1756866 | -0.7839664 |  0.1895424 |  0.3293873 | \n",
       "| -0.5327724 |  0.9437156 |  0.2868199 | -0.5124480 | \n",
       "|  0.7768592 | -0.2907234 |  0.1849954 |  0.2094070 | \n",
       "\n",
       "\n"
      ],
      "text/plain": [
       "     [,1]       [,2]       [,3]       [,4]      \n",
       "[1,] -1.1584327 -1.5810581 -0.3268265 -0.7211148\n",
       "[2,] -0.1756866 -0.7839664  0.1895424  0.3293873\n",
       "[3,] -0.5327724  0.9437156  0.2868199 -0.5124480\n",
       "[4,]  0.7768592 -0.2907234  0.1849954  0.2094070"
      ]
     },
     "metadata": {},
     "output_type": "display_data"
    }
   ],
   "source": [
    "solve(A)"
   ]
  },
  {
   "cell_type": "code",
   "execution_count": 15,
   "metadata": {},
   "outputs": [
    {
     "data": {
      "text/html": [
       "<table>\n",
       "<tbody>\n",
       "\t<tr><td>2</td><td>1</td><td>1</td><td>1</td></tr>\n",
       "\t<tr><td>1</td><td>2</td><td>1</td><td>1</td></tr>\n",
       "\t<tr><td>1</td><td>1</td><td>2</td><td>1</td></tr>\n",
       "\t<tr><td>1</td><td>1</td><td>1</td><td>2</td></tr>\n",
       "</tbody>\n",
       "</table>\n"
      ],
      "text/latex": [
       "\\begin{tabular}{llll}\n",
       "\t 2 & 1 & 1 & 1\\\\\n",
       "\t 1 & 2 & 1 & 1\\\\\n",
       "\t 1 & 1 & 2 & 1\\\\\n",
       "\t 1 & 1 & 1 & 2\\\\\n",
       "\\end{tabular}\n"
      ],
      "text/markdown": [
       "\n",
       "| 2 | 1 | 1 | 1 | \n",
       "| 1 | 2 | 1 | 1 | \n",
       "| 1 | 1 | 2 | 1 | \n",
       "| 1 | 1 | 1 | 2 | \n",
       "\n",
       "\n"
      ],
      "text/plain": [
       "     [,1] [,2] [,3] [,4]\n",
       "[1,] 2    1    1    1   \n",
       "[2,] 1    2    1    1   \n",
       "[3,] 1    1    2    1   \n",
       "[4,] 1    1    1    2   "
      ]
     },
     "metadata": {},
     "output_type": "display_data"
    }
   ],
   "source": [
    "(A<-diag(4)+1)"
   ]
  },
  {
   "cell_type": "code",
   "execution_count": 16,
   "metadata": {},
   "outputs": [
    {
     "data": {
      "text/plain": [
       "eigen() decomposition\n",
       "$values\n",
       "[1] 5 1 1 1\n",
       "\n",
       "$vectors\n",
       "     [,1]       [,2]       [,3]       [,4]\n",
       "[1,] -0.5  0.8660254  0.0000000  0.0000000\n",
       "[2,] -0.5 -0.2886751 -0.5773503 -0.5773503\n",
       "[3,] -0.5 -0.2886751 -0.2113249  0.7886751\n",
       "[4,] -0.5 -0.2886751  0.7886751 -0.2113249\n"
      ]
     },
     "metadata": {},
     "output_type": "display_data"
    }
   ],
   "source": [
    "(A.eigen<-eigen(A,symmetric=T))#此处求出的是特征值和特征向量。"
   ]
  },
  {
   "cell_type": "code",
   "execution_count": 18,
   "metadata": {},
   "outputs": [
    {
     "data": {
      "text/html": [
       "<table>\n",
       "<tbody>\n",
       "\t<tr><td> 0.8</td><td>-0.2</td><td>-0.2</td><td>-0.2</td></tr>\n",
       "\t<tr><td>-0.2</td><td> 0.8</td><td>-0.2</td><td>-0.2</td></tr>\n",
       "\t<tr><td>-0.2</td><td>-0.2</td><td> 0.8</td><td>-0.2</td></tr>\n",
       "\t<tr><td>-0.2</td><td>-0.2</td><td>-0.2</td><td> 0.8</td></tr>\n",
       "</tbody>\n",
       "</table>\n"
      ],
      "text/latex": [
       "\\begin{tabular}{llll}\n",
       "\t  0.8 & -0.2 & -0.2 & -0.2\\\\\n",
       "\t -0.2 &  0.8 & -0.2 & -0.2\\\\\n",
       "\t -0.2 & -0.2 &  0.8 & -0.2\\\\\n",
       "\t -0.2 & -0.2 & -0.2 &  0.8\\\\\n",
       "\\end{tabular}\n"
      ],
      "text/markdown": [
       "\n",
       "|  0.8 | -0.2 | -0.2 | -0.2 | \n",
       "| -0.2 |  0.8 | -0.2 | -0.2 | \n",
       "| -0.2 | -0.2 |  0.8 | -0.2 | \n",
       "| -0.2 | -0.2 | -0.2 |  0.8 | \n",
       "\n",
       "\n"
      ],
      "text/plain": [
       "     [,1] [,2] [,3] [,4]\n",
       "[1,]  0.8 -0.2 -0.2 -0.2\n",
       "[2,] -0.2  0.8 -0.2 -0.2\n",
       "[3,] -0.2 -0.2  0.8 -0.2\n",
       "[4,] -0.2 -0.2 -0.2  0.8"
      ]
     },
     "metadata": {},
     "output_type": "display_data"
    }
   ],
   "source": [
    "solve(A)"
   ]
  },
  {
   "cell_type": "markdown",
   "metadata": {},
   "source": [
    ">计算矩阵逆，可以用solveCrossprod()函数：  \n",
    "solveCrossprod(X,method=c(\"qr\",\"chol\",\"solve\"))\n",
    "其中，qr效率最高，chol精度最高，而solve与使用solve(crossprod(x,x))相同"
   ]
  },
  {
   "cell_type": "code",
   "execution_count": 4,
   "metadata": {
    "collapsed": true
   },
   "outputs": [],
   "source": [
    "A<-matrix(rnorm(16),4)"
   ]
  },
  {
   "cell_type": "code",
   "execution_count": 2,
   "metadata": {},
   "outputs": [
    {
     "name": "stderr",
     "output_type": "stream",
     "text": [
      "Loading required package: zoo\n",
      "\n",
      "Attaching package: ‘zoo’\n",
      "\n",
      "The following objects are masked from ‘package:base’:\n",
      "\n",
      "    as.Date, as.Date.numeric\n",
      "\n",
      "Loading required package: sandwich\n"
     ]
    }
   ],
   "source": [
    "library(\"strucchange\")"
   ]
  },
  {
   "cell_type": "code",
   "execution_count": 5,
   "metadata": {},
   "outputs": [
    {
     "data": {
      "text/html": [
       "<table>\n",
       "<tbody>\n",
       "\t<tr><td> 0.7074419305</td><td>0.0002707731 </td><td> 0.1488367   </td><td>-0.1973947   </td></tr>\n",
       "\t<tr><td> 0.0002707731</td><td>0.6679245840 </td><td> 0.3554729   </td><td> 0.0597856   </td></tr>\n",
       "\t<tr><td> 0.1488367047</td><td>0.3554729449 </td><td> 0.5972702   </td><td>-0.0985244   </td></tr>\n",
       "\t<tr><td>-0.1973947177</td><td>0.0597855993 </td><td>-0.0985244   </td><td> 0.1694688   </td></tr>\n",
       "</tbody>\n",
       "</table>\n"
      ],
      "text/latex": [
       "\\begin{tabular}{llll}\n",
       "\t  0.7074419305 & 0.0002707731  &  0.1488367    & -0.1973947   \\\\\n",
       "\t  0.0002707731 & 0.6679245840  &  0.3554729    &  0.0597856   \\\\\n",
       "\t  0.1488367047 & 0.3554729449  &  0.5972702    & -0.0985244   \\\\\n",
       "\t -0.1973947177 & 0.0597855993  & -0.0985244    &  0.1694688   \\\\\n",
       "\\end{tabular}\n"
      ],
      "text/markdown": [
       "\n",
       "|  0.7074419305 | 0.0002707731  |  0.1488367    | -0.1973947    | \n",
       "|  0.0002707731 | 0.6679245840  |  0.3554729    |  0.0597856    | \n",
       "|  0.1488367047 | 0.3554729449  |  0.5972702    | -0.0985244    | \n",
       "| -0.1973947177 | 0.0597855993  | -0.0985244    |  0.1694688    | \n",
       "\n",
       "\n"
      ],
      "text/plain": [
       "     [,1]          [,2]         [,3]       [,4]      \n",
       "[1,]  0.7074419305 0.0002707731  0.1488367 -0.1973947\n",
       "[2,]  0.0002707731 0.6679245840  0.3554729  0.0597856\n",
       "[3,]  0.1488367047 0.3554729449  0.5972702 -0.0985244\n",
       "[4,] -0.1973947177 0.0597855993 -0.0985244  0.1694688"
      ]
     },
     "metadata": {},
     "output_type": "display_data"
    }
   ],
   "source": [
    "solveCrossprod(A,method=\"qr\")"
   ]
  },
  {
   "cell_type": "code",
   "execution_count": 6,
   "metadata": {},
   "outputs": [
    {
     "data": {
      "text/html": [
       "<table>\n",
       "<tbody>\n",
       "\t<tr><td> 0.7074419305</td><td>0.0002707731 </td><td> 0.1488367   </td><td>-0.1973947   </td></tr>\n",
       "\t<tr><td> 0.0002707731</td><td>0.6679245840 </td><td> 0.3554729   </td><td> 0.0597856   </td></tr>\n",
       "\t<tr><td> 0.1488367047</td><td>0.3554729449 </td><td> 0.5972702   </td><td>-0.0985244   </td></tr>\n",
       "\t<tr><td>-0.1973947177</td><td>0.0597855993 </td><td>-0.0985244   </td><td> 0.1694688   </td></tr>\n",
       "</tbody>\n",
       "</table>\n"
      ],
      "text/latex": [
       "\\begin{tabular}{llll}\n",
       "\t  0.7074419305 & 0.0002707731  &  0.1488367    & -0.1973947   \\\\\n",
       "\t  0.0002707731 & 0.6679245840  &  0.3554729    &  0.0597856   \\\\\n",
       "\t  0.1488367047 & 0.3554729449  &  0.5972702    & -0.0985244   \\\\\n",
       "\t -0.1973947177 & 0.0597855993  & -0.0985244    &  0.1694688   \\\\\n",
       "\\end{tabular}\n"
      ],
      "text/markdown": [
       "\n",
       "|  0.7074419305 | 0.0002707731  |  0.1488367    | -0.1973947    | \n",
       "|  0.0002707731 | 0.6679245840  |  0.3554729    |  0.0597856    | \n",
       "|  0.1488367047 | 0.3554729449  |  0.5972702    | -0.0985244    | \n",
       "| -0.1973947177 | 0.0597855993  | -0.0985244    |  0.1694688    | \n",
       "\n",
       "\n"
      ],
      "text/plain": [
       "     [,1]          [,2]         [,3]       [,4]      \n",
       "[1,]  0.7074419305 0.0002707731  0.1488367 -0.1973947\n",
       "[2,]  0.0002707731 0.6679245840  0.3554729  0.0597856\n",
       "[3,]  0.1488367047 0.3554729449  0.5972702 -0.0985244\n",
       "[4,] -0.1973947177 0.0597855993 -0.0985244  0.1694688"
      ]
     },
     "metadata": {},
     "output_type": "display_data"
    }
   ],
   "source": [
    "solveCrossprod(A,method = \"chol\")"
   ]
  },
  {
   "cell_type": "code",
   "execution_count": 7,
   "metadata": {},
   "outputs": [
    {
     "data": {
      "text/html": [
       "<table>\n",
       "<tbody>\n",
       "\t<tr><td> 0.7074419305</td><td>0.0002707731 </td><td> 0.1488367   </td><td>-0.1973947   </td></tr>\n",
       "\t<tr><td> 0.0002707731</td><td>0.6679245840 </td><td> 0.3554729   </td><td> 0.0597856   </td></tr>\n",
       "\t<tr><td> 0.1488367047</td><td>0.3554729449 </td><td> 0.5972702   </td><td>-0.0985244   </td></tr>\n",
       "\t<tr><td>-0.1973947177</td><td>0.0597855993 </td><td>-0.0985244   </td><td> 0.1694688   </td></tr>\n",
       "</tbody>\n",
       "</table>\n"
      ],
      "text/latex": [
       "\\begin{tabular}{llll}\n",
       "\t  0.7074419305 & 0.0002707731  &  0.1488367    & -0.1973947   \\\\\n",
       "\t  0.0002707731 & 0.6679245840  &  0.3554729    &  0.0597856   \\\\\n",
       "\t  0.1488367047 & 0.3554729449  &  0.5972702    & -0.0985244   \\\\\n",
       "\t -0.1973947177 & 0.0597855993  & -0.0985244    &  0.1694688   \\\\\n",
       "\\end{tabular}\n"
      ],
      "text/markdown": [
       "\n",
       "|  0.7074419305 | 0.0002707731  |  0.1488367    | -0.1973947    | \n",
       "|  0.0002707731 | 0.6679245840  |  0.3554729    |  0.0597856    | \n",
       "|  0.1488367047 | 0.3554729449  |  0.5972702    | -0.0985244    | \n",
       "| -0.1973947177 | 0.0597855993  | -0.0985244    |  0.1694688    | \n",
       "\n",
       "\n"
      ],
      "text/plain": [
       "     [,1]          [,2]         [,3]       [,4]      \n",
       "[1,]  0.7074419305 0.0002707731  0.1488367 -0.1973947\n",
       "[2,]  0.0002707731 0.6679245840  0.3554729  0.0597856\n",
       "[3,]  0.1488367047 0.3554729449  0.5972702 -0.0985244\n",
       "[4,] -0.1973947177 0.0597855993 -0.0985244  0.1694688"
      ]
     },
     "metadata": {},
     "output_type": "display_data"
    }
   ],
   "source": [
    "solveCrossprod(A,method = \"solve\")"
   ]
  }
 ],
 "metadata": {
  "kernelspec": {
   "display_name": "R",
   "language": "R",
   "name": "ir"
  },
  "language_info": {
   "codemirror_mode": "r",
   "file_extension": ".r",
   "mimetype": "text/x-r-source",
   "name": "R",
   "pygments_lexer": "r",
   "version": "3.4.1"
  }
 },
 "nbformat": 4,
 "nbformat_minor": 2
}
