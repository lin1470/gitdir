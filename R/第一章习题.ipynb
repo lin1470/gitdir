{
 "cells": [
  {
   "cell_type": "code",
   "execution_count": 3,
   "metadata": {},
   "outputs": [
    {
     "data": {
      "text/html": [
       "9194"
      ],
      "text/latex": [
       "9194"
      ],
      "text/markdown": [
       "9194"
      ],
      "text/plain": [
       "[1] 9194"
      ]
     },
     "metadata": {},
     "output_type": "display_data"
    }
   ],
   "source": [
    "170166719%%31079"
   ]
  },
  {
   "cell_type": "raw",
   "metadata": {},
   "source": [
    "运算符\n",
    "            \n",
    "  x + y\n",
    "   加法\n",
    "  x - y\n",
    "   减法\n",
    "  x * y\n",
    "   乘法\n",
    "  x / y\n",
    "   除法\n",
    "  x ^ y\n",
    "   乘幂\n",
    "  x %% y\n",
    "   模运算\n",
    "  x %/% y  \n",
    "   整数除法\n",
    "  x == y\n",
    "   判断是否相等\n",
    "  x <= y\n",
    "   判断是否小于等于\n",
    "  x >= y\n",
    "   判断是否大于等于\n",
    "  x && y\n",
    "   标量的逻辑“与”运算\n",
    "  x || y\n",
    "   标量的逻辑“或”运算\n",
    "  x & y\n",
    "   向量的逻辑“与”运算(x、y以及运算结果都是向量)                                    \n",
    "  X | y\n",
    "   向量的逻辑“或”运算(x、y以及运算结果都是向量)\n",
    "  !x \n",
    "   逻辑非"
   ]
  },
  {
   "cell_type": "code",
   "execution_count": 7,
   "metadata": {},
   "outputs": [
    {
     "data": {
      "text/html": [
       "3.14159265358979"
      ],
      "text/latex": [
       "3.14159265358979"
      ],
      "text/markdown": [
       "3.14159265358979"
      ],
      "text/plain": [
       "[1] 3.141593"
      ]
     },
     "metadata": {},
     "output_type": "display_data"
    }
   ],
   "source": [
    "pi"
   ]
  },
  {
   "cell_type": "raw",
   "metadata": {},
   "source": [
    "R语言非常强大，可以计算各种类型的指数函数.\n",
    "\n",
    "例如假设y=a^x，求x。\n",
    "\n",
    "函数：\n",
    "\n",
    "log(p1 [, p2])\n",
    "\n",
    "其中p1为幂，p2为底数，若p2不存在，则底数为e，结果为指数。"
   ]
  },
  {
   "cell_type": "code",
   "execution_count": 9,
   "metadata": {},
   "outputs": [
    {
     "data": {
      "text/html": [
       "3.14159265358979"
      ],
      "text/latex": [
       "3.14159265358979"
      ],
      "text/markdown": [
       "3.14159265358979"
      ],
      "text/plain": [
       "[1] 3.141593"
      ]
     },
     "metadata": {},
     "output_type": "display_data"
    }
   ],
   "source": [
    "pi"
   ]
  },
  {
   "cell_type": "raw",
   "metadata": {},
   "source": [
    "自然对数（以e为底的对数）\n",
    "\n",
    "例（1）\n",
    "输入：x<- exp(1)"
   ]
  },
  {
   "cell_type": "code",
   "execution_count": 14,
   "metadata": {},
   "outputs": [
    {
     "data": {
      "text/html": [
       "22.459157718361"
      ],
      "text/latex": [
       "22.459157718361"
      ],
      "text/markdown": [
       "22.459157718361"
      ],
      "text/plain": [
       "[1] 22.45916"
      ]
     },
     "metadata": {},
     "output_type": "display_data"
    }
   ],
   "source": [
    "pi^(exp(1))"
   ]
  },
  {
   "cell_type": "code",
   "execution_count": 15,
   "metadata": {},
   "outputs": [
    {
     "data": {
      "text/html": [
       "23.1406926327793"
      ],
      "text/latex": [
       "23.1406926327793"
      ],
      "text/markdown": [
       "23.1406926327793"
      ],
      "text/plain": [
       "[1] 23.14069"
      ]
     },
     "metadata": {},
     "output_type": "display_data"
    }
   ],
   "source": [
    "exp(1)^pi"
   ]
  },
  {
   "cell_type": "code",
   "execution_count": 17,
   "metadata": {
    "collapsed": true
   },
   "outputs": [],
   "source": [
    "help(exp)"
   ]
  },
  {
   "cell_type": "code",
   "execution_count": 21,
   "metadata": {},
   "outputs": [
    {
     "data": {
      "text/html": [
       "<table>\n",
       "<tbody>\n",
       "\t<tr><td>1</td><td>3</td><td>5</td></tr>\n",
       "</tbody>\n",
       "</table>\n"
      ],
      "text/latex": [
       "\\begin{tabular}{lll}\n",
       "\t 1 & 3 & 5\\\\\n",
       "\\end{tabular}\n"
      ],
      "text/markdown": [
       "\n",
       "| 1 | 3 | 5 | \n",
       "\n",
       "\n"
      ],
      "text/plain": [
       "     [,1] [,2] [,3]\n",
       "[1,] 1    3    5   "
      ]
     },
     "metadata": {},
     "output_type": "display_data"
    },
    {
     "data": {
      "text/html": [
       "<ol class=list-inline>\n",
       "\t<li>1</li>\n",
       "\t<li>3</li>\n",
       "\t<li>5</li>\n",
       "</ol>\n"
      ],
      "text/latex": [
       "\\begin{enumerate*}\n",
       "\\item 1\n",
       "\\item 3\n",
       "\\item 5\n",
       "\\end{enumerate*}\n"
      ],
      "text/markdown": [
       "1. 1\n",
       "2. 3\n",
       "3. 5\n",
       "\n",
       "\n"
      ],
      "text/plain": [
       "[1] 1 3 5"
      ]
     },
     "metadata": {},
     "output_type": "display_data"
    }
   ],
   "source": [
    "(x<-t(c(1,3,5)))\n",
    "c(1,3,5)"
   ]
  },
  {
   "cell_type": "code",
   "execution_count": 23,
   "metadata": {
    "collapsed": true
   },
   "outputs": [],
   "source": [
    "y<-t(c(2,4,6))"
   ]
  },
  {
   "cell_type": "code",
   "execution_count": 24,
   "metadata": {},
   "outputs": [
    {
     "data": {
      "text/html": [
       "<ol class=list-inline>\n",
       "\t<li>2</li>\n",
       "\t<li>6</li>\n",
       "\t<li>10</li>\n",
       "\t<li>4</li>\n",
       "\t<li>12</li>\n",
       "\t<li>20</li>\n",
       "\t<li>6</li>\n",
       "\t<li>18</li>\n",
       "\t<li>30</li>\n",
       "</ol>\n"
      ],
      "text/latex": [
       "\\begin{enumerate*}\n",
       "\\item 2\n",
       "\\item 6\n",
       "\\item 10\n",
       "\\item 4\n",
       "\\item 12\n",
       "\\item 20\n",
       "\\item 6\n",
       "\\item 18\n",
       "\\item 30\n",
       "\\end{enumerate*}\n"
      ],
      "text/markdown": [
       "1. 2\n",
       "2. 6\n",
       "3. 10\n",
       "4. 4\n",
       "5. 12\n",
       "6. 20\n",
       "7. 6\n",
       "8. 18\n",
       "9. 30\n",
       "\n",
       "\n"
      ],
      "text/plain": [
       ", , 1, 1\n",
       "\n",
       "     [,1] [,2] [,3]\n",
       "[1,]    2    6   10\n",
       "\n",
       ", , 1, 2\n",
       "\n",
       "     [,1] [,2] [,3]\n",
       "[1,]    4   12   20\n",
       "\n",
       ", , 1, 3\n",
       "\n",
       "     [,1] [,2] [,3]\n",
       "[1,]    6   18   30\n"
      ]
     },
     "metadata": {},
     "output_type": "display_data"
    }
   ],
   "source": [
    "x%o%y"
   ]
  }
 ],
 "metadata": {
  "kernelspec": {
   "display_name": "R",
   "language": "R",
   "name": "ir"
  },
  "language_info": {
   "codemirror_mode": "r",
   "file_extension": ".r",
   "mimetype": "text/x-r-source",
   "name": "R",
   "pygments_lexer": "r",
   "version": "3.4.1"
  }
 },
 "nbformat": 4,
 "nbformat_minor": 2
}
